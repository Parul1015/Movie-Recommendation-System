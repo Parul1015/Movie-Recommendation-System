{
 "cells": [
  {
   "cell_type": "code",
   "execution_count": 1,
   "id": "greatest-arrest",
   "metadata": {
    "execution": {
     "iopub.execute_input": "2021-05-19T07:41:06.648510Z",
     "iopub.status.busy": "2021-05-19T07:41:06.640332Z",
     "iopub.status.idle": "2021-05-19T07:41:07.727138Z",
     "shell.execute_reply": "2021-05-19T07:41:07.727735Z"
    },
    "papermill": {
     "duration": 1.111818,
     "end_time": "2021-05-19T07:41:07.728077",
     "exception": false,
     "start_time": "2021-05-19T07:41:06.616259",
     "status": "completed"
    },
    "tags": []
   },
   "outputs": [
    {
     "data": {
      "text/html": [
       "        <script type=\"text/javascript\">\n",
       "        window.PlotlyConfig = {MathJaxConfig: 'local'};\n",
       "        if (window.MathJax) {MathJax.Hub.Config({SVG: {font: \"STIX-Web\"}});}\n",
       "        if (typeof require !== 'undefined') {\n",
       "        require.undef(\"plotly\");\n",
       "        requirejs.config({\n",
       "            paths: {\n",
       "                'plotly': ['https://cdn.plot.ly/plotly-latest.min']\n",
       "            }\n",
       "        });\n",
       "        require(['plotly'], function(Plotly) {\n",
       "            window._Plotly = Plotly;\n",
       "        });\n",
       "        }\n",
       "        </script>\n",
       "        "
      ]
     },
     "metadata": {},
     "output_type": "display_data"
    }
   ],
   "source": [
    "#import libraries\n",
    "%matplotlib inline\n",
    "from IPython.display import Image, HTML\n",
    "import json\n",
    "import datetime\n",
    "import ast\n",
    "import pandas as pd\n",
    "import matplotlib.pyplot as plt\n",
    "import seaborn as sns\n",
    "import numpy as np\n",
    "from scipy import stats\n",
    "from sklearn.ensemble import GradientBoostingClassifier, GradientBoostingRegressor\n",
    "from sklearn.dummy import DummyClassifier, DummyRegressor\n",
    "from sklearn.model_selection import train_test_split\n",
    "from xgboost import XGBClassifier, XGBRegressor\n",
    "from wordcloud import WordCloud, STOPWORDS\n",
    "import plotly\n",
    "from ast import literal_eval\n",
    "import plotly.offline as py\n",
    "py.init_notebook_mode(connected=True)\n",
    "import plotly.graph_objs as go\n",
    "import plotly.tools as tls\n",
    "import warnings\n",
    "warnings.filterwarnings('ignore')\n",
    "\n",
    "\n",
    "sns.set_style('whitegrid')\n",
    "sns.set(font_scale=1.25)\n",
    "pd.set_option('display.max_colwidth', 50)"
   ]
  },
  {
   "cell_type": "markdown",
   "id": "varying-massage",
   "metadata": {
    "papermill": {
     "duration": 0.015401,
     "end_time": "2021-05-19T07:41:07.764794",
     "exception": false,
     "start_time": "2021-05-19T07:41:07.749393",
     "status": "completed"
    },
    "tags": []
   },
   "source": [
    "Recommender systems are among the most popular applications of data science today. They are used to predict the \"rating\" or \"preference\" that a user would give to an item. Almost every major tech company has applied them in some form. Amazon uses it to suggest products to customers, YouTube uses it to decide which video to play next on autoplay, and Facebook uses it to recommend pages to like and people to follow.\n",
    "\n",
    "There are also popular recommender systems for domains like restaurants, movies, and online dating. Recommender systems have also been developed to explore research articles and experts, collaborators, and financial services. YouTube uses the recommendation system at a large scale to suggest you videos based on your history. For example, if you watch a lot of educational videos, it would suggest those types of videos.\n",
    "\n",
    "\n",
    "Broadly, recommender systems can be classified into 3 types:\n",
    "\n",
    "* Simple recommenders: offer generalized recommendations to every user, based on movie popularity and/or genre. The basic idea behind this system is that movies that are more popular and critically acclaimed will have a higher probability of being liked by the average audience. An example could be IMDB Top 250.\n",
    "* Content-based recommenders: suggest similar items based on a particular item. This system uses item metadata, such as genre, director, description, actors, etc. for movies, to make these recommendations. The general idea behind these recommender systems is that if a person likes a particular item, he or she will also like an item that is similar to it. And to recommend that, it will make use of the user's past item metadata. A good example could be YouTube, where based on your history, it suggests you new videos that you could potentially watch.\n",
    "* Collaborative filtering engines: these systems are widely used, and they try to predict the rating or preference that a user would give an item-based on past ratings and preferences of other users. Collaborative filters do not require item metadata like its content-based counterparts."
   ]
  },
  {
   "cell_type": "markdown",
   "id": "cultural-center",
   "metadata": {
    "papermill": {
     "duration": 0.014904,
     "end_time": "2021-05-19T07:41:07.794773",
     "exception": false,
     "start_time": "2021-05-19T07:41:07.779869",
     "status": "completed"
    },
    "tags": []
   },
   "source": [
    "Let's start with our first \"**Simple recommenders**\":"
   ]
  },
  {
   "cell_type": "code",
   "execution_count": 2,
   "id": "romantic-communication",
   "metadata": {
    "execution": {
     "iopub.execute_input": "2021-05-19T07:41:07.835065Z",
     "iopub.status.busy": "2021-05-19T07:41:07.834568Z",
     "iopub.status.idle": "2021-05-19T07:41:08.642849Z",
     "shell.execute_reply": "2021-05-19T07:41:08.642340Z"
    },
    "papermill": {
     "duration": 0.832863,
     "end_time": "2021-05-19T07:41:08.642996",
     "exception": false,
     "start_time": "2021-05-19T07:41:07.810133",
     "status": "completed"
    },
    "tags": []
   },
   "outputs": [],
   "source": [
    "# import dataset\n",
    "df = pd.read_csv('../input/the-movies-dataset/movies_metadata.csv')\n"
   ]
  },
  {
   "cell_type": "code",
   "execution_count": 3,
   "id": "military-twist",
   "metadata": {
    "execution": {
     "iopub.execute_input": "2021-05-19T07:41:08.697894Z",
     "iopub.status.busy": "2021-05-19T07:41:08.694681Z",
     "iopub.status.idle": "2021-05-19T07:41:08.714730Z",
     "shell.execute_reply": "2021-05-19T07:41:08.714233Z"
    },
    "papermill": {
     "duration": 0.056146,
     "end_time": "2021-05-19T07:41:08.714843",
     "exception": false,
     "start_time": "2021-05-19T07:41:08.658697",
     "status": "completed"
    },
    "tags": []
   },
   "outputs": [
    {
     "data": {
      "text/html": [
       "<div>\n",
       "<style scoped>\n",
       "    .dataframe tbody tr th:only-of-type {\n",
       "        vertical-align: middle;\n",
       "    }\n",
       "\n",
       "    .dataframe tbody tr th {\n",
       "        vertical-align: top;\n",
       "    }\n",
       "\n",
       "    .dataframe thead th {\n",
       "        text-align: right;\n",
       "    }\n",
       "</style>\n",
       "<table border=\"1\" class=\"dataframe\">\n",
       "  <thead>\n",
       "    <tr style=\"text-align: right;\">\n",
       "      <th></th>\n",
       "      <th>adult</th>\n",
       "      <th>belongs_to_collection</th>\n",
       "      <th>budget</th>\n",
       "      <th>genres</th>\n",
       "      <th>homepage</th>\n",
       "      <th>id</th>\n",
       "      <th>imdb_id</th>\n",
       "      <th>original_language</th>\n",
       "      <th>original_title</th>\n",
       "      <th>overview</th>\n",
       "      <th>...</th>\n",
       "      <th>release_date</th>\n",
       "      <th>revenue</th>\n",
       "      <th>runtime</th>\n",
       "      <th>spoken_languages</th>\n",
       "      <th>status</th>\n",
       "      <th>tagline</th>\n",
       "      <th>title</th>\n",
       "      <th>video</th>\n",
       "      <th>vote_average</th>\n",
       "      <th>vote_count</th>\n",
       "    </tr>\n",
       "  </thead>\n",
       "  <tbody>\n",
       "    <tr>\n",
       "      <th>0</th>\n",
       "      <td>False</td>\n",
       "      <td>{'id': 10194, 'name': 'Toy Story Collection', ...</td>\n",
       "      <td>30000000</td>\n",
       "      <td>[{'id': 16, 'name': 'Animation'}, {'id': 35, '...</td>\n",
       "      <td>http://toystory.disney.com/toy-story</td>\n",
       "      <td>862</td>\n",
       "      <td>tt0114709</td>\n",
       "      <td>en</td>\n",
       "      <td>Toy Story</td>\n",
       "      <td>Led by Woody, Andy's toys live happily in his ...</td>\n",
       "      <td>...</td>\n",
       "      <td>1995-10-30</td>\n",
       "      <td>373554033.0</td>\n",
       "      <td>81.0</td>\n",
       "      <td>[{'iso_639_1': 'en', 'name': 'English'}]</td>\n",
       "      <td>Released</td>\n",
       "      <td>NaN</td>\n",
       "      <td>Toy Story</td>\n",
       "      <td>False</td>\n",
       "      <td>7.7</td>\n",
       "      <td>5415.0</td>\n",
       "    </tr>\n",
       "    <tr>\n",
       "      <th>1</th>\n",
       "      <td>False</td>\n",
       "      <td>NaN</td>\n",
       "      <td>65000000</td>\n",
       "      <td>[{'id': 12, 'name': 'Adventure'}, {'id': 14, '...</td>\n",
       "      <td>NaN</td>\n",
       "      <td>8844</td>\n",
       "      <td>tt0113497</td>\n",
       "      <td>en</td>\n",
       "      <td>Jumanji</td>\n",
       "      <td>When siblings Judy and Peter discover an encha...</td>\n",
       "      <td>...</td>\n",
       "      <td>1995-12-15</td>\n",
       "      <td>262797249.0</td>\n",
       "      <td>104.0</td>\n",
       "      <td>[{'iso_639_1': 'en', 'name': 'English'}, {'iso...</td>\n",
       "      <td>Released</td>\n",
       "      <td>Roll the dice and unleash the excitement!</td>\n",
       "      <td>Jumanji</td>\n",
       "      <td>False</td>\n",
       "      <td>6.9</td>\n",
       "      <td>2413.0</td>\n",
       "    </tr>\n",
       "    <tr>\n",
       "      <th>2</th>\n",
       "      <td>False</td>\n",
       "      <td>{'id': 119050, 'name': 'Grumpy Old Men Collect...</td>\n",
       "      <td>0</td>\n",
       "      <td>[{'id': 10749, 'name': 'Romance'}, {'id': 35, ...</td>\n",
       "      <td>NaN</td>\n",
       "      <td>15602</td>\n",
       "      <td>tt0113228</td>\n",
       "      <td>en</td>\n",
       "      <td>Grumpier Old Men</td>\n",
       "      <td>A family wedding reignites the ancient feud be...</td>\n",
       "      <td>...</td>\n",
       "      <td>1995-12-22</td>\n",
       "      <td>0.0</td>\n",
       "      <td>101.0</td>\n",
       "      <td>[{'iso_639_1': 'en', 'name': 'English'}]</td>\n",
       "      <td>Released</td>\n",
       "      <td>Still Yelling. Still Fighting. Still Ready for...</td>\n",
       "      <td>Grumpier Old Men</td>\n",
       "      <td>False</td>\n",
       "      <td>6.5</td>\n",
       "      <td>92.0</td>\n",
       "    </tr>\n",
       "    <tr>\n",
       "      <th>3</th>\n",
       "      <td>False</td>\n",
       "      <td>NaN</td>\n",
       "      <td>16000000</td>\n",
       "      <td>[{'id': 35, 'name': 'Comedy'}, {'id': 18, 'nam...</td>\n",
       "      <td>NaN</td>\n",
       "      <td>31357</td>\n",
       "      <td>tt0114885</td>\n",
       "      <td>en</td>\n",
       "      <td>Waiting to Exhale</td>\n",
       "      <td>Cheated on, mistreated and stepped on, the wom...</td>\n",
       "      <td>...</td>\n",
       "      <td>1995-12-22</td>\n",
       "      <td>81452156.0</td>\n",
       "      <td>127.0</td>\n",
       "      <td>[{'iso_639_1': 'en', 'name': 'English'}]</td>\n",
       "      <td>Released</td>\n",
       "      <td>Friends are the people who let you be yourself...</td>\n",
       "      <td>Waiting to Exhale</td>\n",
       "      <td>False</td>\n",
       "      <td>6.1</td>\n",
       "      <td>34.0</td>\n",
       "    </tr>\n",
       "    <tr>\n",
       "      <th>4</th>\n",
       "      <td>False</td>\n",
       "      <td>{'id': 96871, 'name': 'Father of the Bride Col...</td>\n",
       "      <td>0</td>\n",
       "      <td>[{'id': 35, 'name': 'Comedy'}]</td>\n",
       "      <td>NaN</td>\n",
       "      <td>11862</td>\n",
       "      <td>tt0113041</td>\n",
       "      <td>en</td>\n",
       "      <td>Father of the Bride Part II</td>\n",
       "      <td>Just when George Banks has recovered from his ...</td>\n",
       "      <td>...</td>\n",
       "      <td>1995-02-10</td>\n",
       "      <td>76578911.0</td>\n",
       "      <td>106.0</td>\n",
       "      <td>[{'iso_639_1': 'en', 'name': 'English'}]</td>\n",
       "      <td>Released</td>\n",
       "      <td>Just When His World Is Back To Normal... He's ...</td>\n",
       "      <td>Father of the Bride Part II</td>\n",
       "      <td>False</td>\n",
       "      <td>5.7</td>\n",
       "      <td>173.0</td>\n",
       "    </tr>\n",
       "  </tbody>\n",
       "</table>\n",
       "<p>5 rows × 24 columns</p>\n",
       "</div>"
      ],
      "text/plain": [
       "   adult                              belongs_to_collection    budget  \\\n",
       "0  False  {'id': 10194, 'name': 'Toy Story Collection', ...  30000000   \n",
       "1  False                                                NaN  65000000   \n",
       "2  False  {'id': 119050, 'name': 'Grumpy Old Men Collect...         0   \n",
       "3  False                                                NaN  16000000   \n",
       "4  False  {'id': 96871, 'name': 'Father of the Bride Col...         0   \n",
       "\n",
       "                                              genres  \\\n",
       "0  [{'id': 16, 'name': 'Animation'}, {'id': 35, '...   \n",
       "1  [{'id': 12, 'name': 'Adventure'}, {'id': 14, '...   \n",
       "2  [{'id': 10749, 'name': 'Romance'}, {'id': 35, ...   \n",
       "3  [{'id': 35, 'name': 'Comedy'}, {'id': 18, 'nam...   \n",
       "4                     [{'id': 35, 'name': 'Comedy'}]   \n",
       "\n",
       "                               homepage     id    imdb_id original_language  \\\n",
       "0  http://toystory.disney.com/toy-story    862  tt0114709                en   \n",
       "1                                   NaN   8844  tt0113497                en   \n",
       "2                                   NaN  15602  tt0113228                en   \n",
       "3                                   NaN  31357  tt0114885                en   \n",
       "4                                   NaN  11862  tt0113041                en   \n",
       "\n",
       "                original_title  \\\n",
       "0                    Toy Story   \n",
       "1                      Jumanji   \n",
       "2             Grumpier Old Men   \n",
       "3            Waiting to Exhale   \n",
       "4  Father of the Bride Part II   \n",
       "\n",
       "                                            overview  ... release_date  \\\n",
       "0  Led by Woody, Andy's toys live happily in his ...  ...   1995-10-30   \n",
       "1  When siblings Judy and Peter discover an encha...  ...   1995-12-15   \n",
       "2  A family wedding reignites the ancient feud be...  ...   1995-12-22   \n",
       "3  Cheated on, mistreated and stepped on, the wom...  ...   1995-12-22   \n",
       "4  Just when George Banks has recovered from his ...  ...   1995-02-10   \n",
       "\n",
       "       revenue runtime                                   spoken_languages  \\\n",
       "0  373554033.0    81.0           [{'iso_639_1': 'en', 'name': 'English'}]   \n",
       "1  262797249.0   104.0  [{'iso_639_1': 'en', 'name': 'English'}, {'iso...   \n",
       "2          0.0   101.0           [{'iso_639_1': 'en', 'name': 'English'}]   \n",
       "3   81452156.0   127.0           [{'iso_639_1': 'en', 'name': 'English'}]   \n",
       "4   76578911.0   106.0           [{'iso_639_1': 'en', 'name': 'English'}]   \n",
       "\n",
       "     status                                            tagline  \\\n",
       "0  Released                                                NaN   \n",
       "1  Released          Roll the dice and unleash the excitement!   \n",
       "2  Released  Still Yelling. Still Fighting. Still Ready for...   \n",
       "3  Released  Friends are the people who let you be yourself...   \n",
       "4  Released  Just When His World Is Back To Normal... He's ...   \n",
       "\n",
       "                         title  video vote_average vote_count  \n",
       "0                    Toy Story  False          7.7     5415.0  \n",
       "1                      Jumanji  False          6.9     2413.0  \n",
       "2             Grumpier Old Men  False          6.5       92.0  \n",
       "3            Waiting to Exhale  False          6.1       34.0  \n",
       "4  Father of the Bride Part II  False          5.7      173.0  \n",
       "\n",
       "[5 rows x 24 columns]"
      ]
     },
     "execution_count": 3,
     "metadata": {},
     "output_type": "execute_result"
    }
   ],
   "source": [
    "#print first 5 rows\n",
    "df.head()"
   ]
  },
  {
   "cell_type": "code",
   "execution_count": 4,
   "id": "regulated-milton",
   "metadata": {
    "execution": {
     "iopub.execute_input": "2021-05-19T07:41:08.752061Z",
     "iopub.status.busy": "2021-05-19T07:41:08.751486Z",
     "iopub.status.idle": "2021-05-19T07:41:08.754515Z",
     "shell.execute_reply": "2021-05-19T07:41:08.754901Z"
    },
    "papermill": {
     "duration": 0.023924,
     "end_time": "2021-05-19T07:41:08.755017",
     "exception": false,
     "start_time": "2021-05-19T07:41:08.731093",
     "status": "completed"
    },
    "tags": []
   },
   "outputs": [
    {
     "data": {
      "text/plain": [
       "Index(['adult', 'belongs_to_collection', 'budget', 'genres', 'homepage', 'id',\n",
       "       'imdb_id', 'original_language', 'original_title', 'overview',\n",
       "       'popularity', 'poster_path', 'production_companies',\n",
       "       'production_countries', 'release_date', 'revenue', 'runtime',\n",
       "       'spoken_languages', 'status', 'tagline', 'title', 'video',\n",
       "       'vote_average', 'vote_count'],\n",
       "      dtype='object')"
      ]
     },
     "execution_count": 4,
     "metadata": {},
     "output_type": "execute_result"
    }
   ],
   "source": [
    "#The column labels of the DataFrame.\n",
    "df.columns"
   ]
  },
  {
   "cell_type": "markdown",
   "id": "incoming-silly",
   "metadata": {
    "papermill": {
     "duration": 0.01595,
     "end_time": "2021-05-19T07:41:08.787349",
     "exception": false,
     "start_time": "2021-05-19T07:41:08.771399",
     "status": "completed"
    },
    "tags": []
   },
   "source": [
    "\n",
    "Features\n",
    "* adult: Indicates if the movie is X-Rated or Adult.\n",
    "* belongs_to_collection: A stringified dictionary that gives information on the movie series the particular film belongs to.\n",
    "* budget: The budget of the movie in dollars.\n",
    "* genres: A stringified list of dictionaries that list out all the genres associated with the movie.\n",
    "* homepage: The Official Homepage of the move.\n",
    "* id: The ID of the move.\n",
    "* imdb_id: The IMDB ID of the movie.\n",
    "* original_language: The language in which the movie was originally shot in.\n",
    "* original_title: The original title of the movie.\n",
    "* overview: A brief blurb of the movie.\n",
    "* popularity: The Popularity Score assigned by TMDB.\n",
    "* poster_path: The URL of the poster image.\n",
    "* production_companies: A stringified list of production companies involved with the making of the movie.\n",
    "* production_countries: A stringified list of countries where the movie was shot/produced in.\n",
    "* release_date: Theatrical Release Date of the movie.\n",
    "* revenue: The total revenue of the movie in dollars.\n",
    "* runtime: The runtime of the movie in minutes.\n",
    "* spoken_languages: A stringified list of spoken languages in the film.\n",
    "* status: The status of the movie (Released, To Be Released, Announced, etc.)\n",
    "* tagline: The tagline of the movie.\n",
    "* title: The Official Title of the movie.\n",
    "* video: Indicates if there is a video present of the movie with TMDB.\n",
    "* vote_average: The average rating of the movie.\n",
    "* vote_count: The number of votes by users, as counted by TMDB."
   ]
  },
  {
   "cell_type": "code",
   "execution_count": 5,
   "id": "arabic-depth",
   "metadata": {
    "execution": {
     "iopub.execute_input": "2021-05-19T07:41:08.824075Z",
     "iopub.status.busy": "2021-05-19T07:41:08.823594Z",
     "iopub.status.idle": "2021-05-19T07:41:08.828619Z",
     "shell.execute_reply": "2021-05-19T07:41:08.829086Z"
    },
    "papermill": {
     "duration": 0.025527,
     "end_time": "2021-05-19T07:41:08.829204",
     "exception": false,
     "start_time": "2021-05-19T07:41:08.803677",
     "status": "completed"
    },
    "tags": []
   },
   "outputs": [
    {
     "data": {
      "text/plain": [
       "(45466, 24)"
      ]
     },
     "execution_count": 5,
     "metadata": {},
     "output_type": "execute_result"
    }
   ],
   "source": [
    "df.shape"
   ]
  },
  {
   "cell_type": "code",
   "execution_count": 6,
   "id": "handmade-madness",
   "metadata": {
    "execution": {
     "iopub.execute_input": "2021-05-19T07:41:08.866045Z",
     "iopub.status.busy": "2021-05-19T07:41:08.865546Z",
     "iopub.status.idle": "2021-05-19T07:41:08.945235Z",
     "shell.execute_reply": "2021-05-19T07:41:08.945888Z"
    },
    "papermill": {
     "duration": 0.100224,
     "end_time": "2021-05-19T07:41:08.946069",
     "exception": false,
     "start_time": "2021-05-19T07:41:08.845845",
     "status": "completed"
    },
    "tags": []
   },
   "outputs": [
    {
     "name": "stdout",
     "output_type": "stream",
     "text": [
      "<class 'pandas.core.frame.DataFrame'>\n",
      "RangeIndex: 45466 entries, 0 to 45465\n",
      "Data columns (total 24 columns):\n",
      " #   Column                 Non-Null Count  Dtype  \n",
      "---  ------                 --------------  -----  \n",
      " 0   adult                  45466 non-null  object \n",
      " 1   belongs_to_collection  4494 non-null   object \n",
      " 2   budget                 45466 non-null  object \n",
      " 3   genres                 45466 non-null  object \n",
      " 4   homepage               7782 non-null   object \n",
      " 5   id                     45466 non-null  object \n",
      " 6   imdb_id                45449 non-null  object \n",
      " 7   original_language      45455 non-null  object \n",
      " 8   original_title         45466 non-null  object \n",
      " 9   overview               44512 non-null  object \n",
      " 10  popularity             45461 non-null  object \n",
      " 11  poster_path            45080 non-null  object \n",
      " 12  production_companies   45463 non-null  object \n",
      " 13  production_countries   45463 non-null  object \n",
      " 14  release_date           45379 non-null  object \n",
      " 15  revenue                45460 non-null  float64\n",
      " 16  runtime                45203 non-null  float64\n",
      " 17  spoken_languages       45460 non-null  object \n",
      " 18  status                 45379 non-null  object \n",
      " 19  tagline                20412 non-null  object \n",
      " 20  title                  45460 non-null  object \n",
      " 21  video                  45460 non-null  object \n",
      " 22  vote_average           45460 non-null  float64\n",
      " 23  vote_count             45460 non-null  float64\n",
      "dtypes: float64(4), object(20)\n",
      "memory usage: 8.3+ MB\n"
     ]
    }
   ],
   "source": [
    "df.info()"
   ]
  },
  {
   "cell_type": "code",
   "execution_count": 7,
   "id": "yellow-priority",
   "metadata": {
    "execution": {
     "iopub.execute_input": "2021-05-19T07:41:08.984388Z",
     "iopub.status.busy": "2021-05-19T07:41:08.983896Z",
     "iopub.status.idle": "2021-05-19T07:41:09.055776Z",
     "shell.execute_reply": "2021-05-19T07:41:09.055072Z"
    },
    "papermill": {
     "duration": 0.092064,
     "end_time": "2021-05-19T07:41:09.055882",
     "exception": false,
     "start_time": "2021-05-19T07:41:08.963818",
     "status": "completed"
    },
    "tags": []
   },
   "outputs": [
    {
     "data": {
      "text/plain": [
       "adult                        0\n",
       "belongs_to_collection    40972\n",
       "budget                       0\n",
       "genres                       0\n",
       "homepage                 37684\n",
       "id                           0\n",
       "imdb_id                     17\n",
       "original_language           11\n",
       "original_title               0\n",
       "overview                   954\n",
       "popularity                   5\n",
       "poster_path                386\n",
       "production_companies         3\n",
       "production_countries         3\n",
       "release_date                87\n",
       "revenue                      6\n",
       "runtime                    263\n",
       "spoken_languages             6\n",
       "status                      87\n",
       "tagline                  25054\n",
       "title                        6\n",
       "video                        6\n",
       "vote_average                 6\n",
       "vote_count                   6\n",
       "dtype: int64"
      ]
     },
     "execution_count": 7,
     "metadata": {},
     "output_type": "execute_result"
    }
   ],
   "source": [
    "df.isnull().sum()"
   ]
  },
  {
   "cell_type": "markdown",
   "id": "radio-ceremony",
   "metadata": {
    "papermill": {
     "duration": 0.017562,
     "end_time": "2021-05-19T07:41:09.091171",
     "exception": false,
     "start_time": "2021-05-19T07:41:09.073609",
     "status": "completed"
    },
    "tags": []
   },
   "source": [
    "We can use the average ratings of the movie as the score but using this won't be fair enough since a movie with 8.9 average rating and only 3 votes cannot be considered better than the movie with 7.8 as as average rating but 40 votes. So, I'll be using IMDB's weighted rating (wr) which is given as :-\n",
    "\n",
    "WeightedRating(WR)=(v/(v+m)*R)+(m/(v+m)*c)\n",
    "\n",
    "\n",
    "In the above equation,\n",
    "\n",
    "v is the number of votes for the movie;\n",
    "\n",
    "m is the minimum votes required to be listed in the chart;\n",
    "\n",
    "R is the average rating of the movie;\n",
    "\n",
    "C is the mean vote across the whole report.\n",
    "\n",
    "we already have the values to v (vote_count) and R (vote_average) and C calculates as:"
   ]
  },
  {
   "cell_type": "code",
   "execution_count": 8,
   "id": "foreign-wagon",
   "metadata": {
    "execution": {
     "iopub.execute_input": "2021-05-19T07:41:09.135409Z",
     "iopub.status.busy": "2021-05-19T07:41:09.134667Z",
     "iopub.status.idle": "2021-05-19T07:41:10.612111Z",
     "shell.execute_reply": "2021-05-19T07:41:10.611622Z"
    },
    "papermill": {
     "duration": 1.503016,
     "end_time": "2021-05-19T07:41:10.612242",
     "exception": false,
     "start_time": "2021-05-19T07:41:09.109226",
     "status": "completed"
    },
    "tags": []
   },
   "outputs": [],
   "source": [
    "df['genres'] = df['genres'].fillna('[]').apply(literal_eval).apply(lambda x: [i['name'] for i in x] if isinstance(x, list) else [])"
   ]
  },
  {
   "cell_type": "code",
   "execution_count": 9,
   "id": "intense-vegetable",
   "metadata": {
    "execution": {
     "iopub.execute_input": "2021-05-19T07:41:10.652312Z",
     "iopub.status.busy": "2021-05-19T07:41:10.651834Z",
     "iopub.status.idle": "2021-05-19T07:41:10.674999Z",
     "shell.execute_reply": "2021-05-19T07:41:10.675571Z"
    },
    "papermill": {
     "duration": 0.04562,
     "end_time": "2021-05-19T07:41:10.675758",
     "exception": false,
     "start_time": "2021-05-19T07:41:10.630138",
     "status": "completed"
    },
    "tags": []
   },
   "outputs": [
    {
     "name": "stdout",
     "output_type": "stream",
     "text": [
      "5.618207215134185\n"
     ]
    }
   ],
   "source": [
    "# Calculate mean of vote average column\n",
    "vote_averages = df[df['vote_average'].notnull()]['vote_average'].astype('int')\n",
    "\n",
    "C=df['vote_average'].mean()\n",
    "print(C)"
   ]
  },
  {
   "cell_type": "markdown",
   "id": "circular-webmaster",
   "metadata": {
    "papermill": {
     "duration": 0.018059,
     "end_time": "2021-05-19T07:41:10.712750",
     "exception": false,
     "start_time": "2021-05-19T07:41:10.694691",
     "status": "completed"
    },
    "tags": []
   },
   "source": [
    "So, the average rating of a movies is approx 5.6 on a scale of 10.The next step is to calculate the number of votes, m(the minimum votes required to be listed in the chart), received by a movie in the 90th percentile.In other words, for a movie to be featured in the charts, it must have more votes than at least 90% of the movies on the list."
   ]
  },
  {
   "cell_type": "code",
   "execution_count": 10,
   "id": "clinical-blade",
   "metadata": {
    "execution": {
     "iopub.execute_input": "2021-05-19T07:41:10.754167Z",
     "iopub.status.busy": "2021-05-19T07:41:10.753678Z",
     "iopub.status.idle": "2021-05-19T07:41:10.761092Z",
     "shell.execute_reply": "2021-05-19T07:41:10.761835Z"
    },
    "papermill": {
     "duration": 0.030848,
     "end_time": "2021-05-19T07:41:10.762034",
     "exception": false,
     "start_time": "2021-05-19T07:41:10.731186",
     "status": "completed"
    },
    "tags": []
   },
   "outputs": [
    {
     "name": "stdout",
     "output_type": "stream",
     "text": [
      "160.0\n"
     ]
    }
   ],
   "source": [
    "# Calculate the minimum number of votes required to be in the chart, m\n",
    "m = df['vote_count'].quantile(0.90)\n",
    "print(m)"
   ]
  },
  {
   "cell_type": "markdown",
   "id": "gross-queensland",
   "metadata": {
    "papermill": {
     "duration": 0.018324,
     "end_time": "2021-05-19T07:41:10.799525",
     "exception": false,
     "start_time": "2021-05-19T07:41:10.781201",
     "status": "completed"
    },
    "tags": []
   },
   "source": [
    "Now, we can filter out the movies that qualify for the chart"
   ]
  },
  {
   "cell_type": "code",
   "execution_count": 11,
   "id": "nominated-abuse",
   "metadata": {
    "execution": {
     "iopub.execute_input": "2021-05-19T07:41:10.840968Z",
     "iopub.status.busy": "2021-05-19T07:41:10.840221Z",
     "iopub.status.idle": "2021-05-19T07:41:10.878228Z",
     "shell.execute_reply": "2021-05-19T07:41:10.878746Z"
    },
    "papermill": {
     "duration": 0.060513,
     "end_time": "2021-05-19T07:41:10.878874",
     "exception": false,
     "start_time": "2021-05-19T07:41:10.818361",
     "status": "completed"
    },
    "tags": []
   },
   "outputs": [
    {
     "data": {
      "text/plain": [
       "(4555, 24)"
      ]
     },
     "execution_count": 11,
     "metadata": {},
     "output_type": "execute_result"
    }
   ],
   "source": [
    "# Filter out all qualified movies into a new DataFrame\n",
    "q_movies = df.copy().loc[df['vote_count'] >= m]\n",
    "q_movies.shape"
   ]
  },
  {
   "cell_type": "markdown",
   "id": "interpreted-stanford",
   "metadata": {
    "papermill": {
     "duration": 0.018872,
     "end_time": "2021-05-19T07:41:10.917169",
     "exception": false,
     "start_time": "2021-05-19T07:41:10.898297",
     "status": "completed"
    },
    "tags": []
   },
   "source": [
    "Therefore, to qualify to be considered for the chart, a movie has to have at least 160 votes on TMDB. We also see that the average rating for a movie on TMDB is 5.61 on a scale of 10.\n",
    "\n",
    "Now, we need to calculate our metric for each qualified movie. To do this, we will define a function, weighted_rating() and define a new feature score, of which we'll calculate the value by applying this function to our DataFrame of qualified movies:"
   ]
  },
  {
   "cell_type": "code",
   "execution_count": 12,
   "id": "regulation-solid",
   "metadata": {
    "execution": {
     "iopub.execute_input": "2021-05-19T07:41:10.959395Z",
     "iopub.status.busy": "2021-05-19T07:41:10.958719Z",
     "iopub.status.idle": "2021-05-19T07:41:10.961463Z",
     "shell.execute_reply": "2021-05-19T07:41:10.961004Z"
    },
    "papermill": {
     "duration": 0.025397,
     "end_time": "2021-05-19T07:41:10.961565",
     "exception": false,
     "start_time": "2021-05-19T07:41:10.936168",
     "status": "completed"
    },
    "tags": []
   },
   "outputs": [],
   "source": [
    "def weighted_rating(x, m=m, C=C):\n",
    "    v = x['vote_count']\n",
    "    R = x['vote_average']\n",
    "    # Calculation based on the IMDB formula\n",
    "    return (v/(v+m) * R) + (m/(m+v) * C)"
   ]
  },
  {
   "cell_type": "code",
   "execution_count": 13,
   "id": "brief-priest",
   "metadata": {
    "execution": {
     "iopub.execute_input": "2021-05-19T07:41:11.003476Z",
     "iopub.status.busy": "2021-05-19T07:41:11.002954Z",
     "iopub.status.idle": "2021-05-19T07:41:11.081370Z",
     "shell.execute_reply": "2021-05-19T07:41:11.080943Z"
    },
    "papermill": {
     "duration": 0.100425,
     "end_time": "2021-05-19T07:41:11.081509",
     "exception": false,
     "start_time": "2021-05-19T07:41:10.981084",
     "status": "completed"
    },
    "tags": []
   },
   "outputs": [],
   "source": [
    "# Define a new feature 'score' and calculate its value with `weighted_rating()`\n",
    "q_movies['score'] = q_movies.apply(weighted_rating, axis=1)"
   ]
  },
  {
   "cell_type": "markdown",
   "id": "solved-photographer",
   "metadata": {
    "papermill": {
     "duration": 0.019987,
     "end_time": "2021-05-19T07:41:11.120985",
     "exception": false,
     "start_time": "2021-05-19T07:41:11.100998",
     "status": "completed"
    },
    "tags": []
   },
   "source": [
    "Finally, let's sort the DataFrame in descending order based on the score feature column and output the title, vote count, vote average, and weighted rating (score) of the top 20 movies."
   ]
  },
  {
   "cell_type": "code",
   "execution_count": 14,
   "id": "frequent-organizer",
   "metadata": {
    "execution": {
     "iopub.execute_input": "2021-05-19T07:41:11.163706Z",
     "iopub.status.busy": "2021-05-19T07:41:11.162848Z",
     "iopub.status.idle": "2021-05-19T07:41:11.182319Z",
     "shell.execute_reply": "2021-05-19T07:41:11.181932Z"
    },
    "papermill": {
     "duration": 0.042416,
     "end_time": "2021-05-19T07:41:11.182443",
     "exception": false,
     "start_time": "2021-05-19T07:41:11.140027",
     "status": "completed"
    },
    "tags": []
   },
   "outputs": [
    {
     "data": {
      "text/html": [
       "<div>\n",
       "<style scoped>\n",
       "    .dataframe tbody tr th:only-of-type {\n",
       "        vertical-align: middle;\n",
       "    }\n",
       "\n",
       "    .dataframe tbody tr th {\n",
       "        vertical-align: top;\n",
       "    }\n",
       "\n",
       "    .dataframe thead th {\n",
       "        text-align: right;\n",
       "    }\n",
       "</style>\n",
       "<table border=\"1\" class=\"dataframe\">\n",
       "  <thead>\n",
       "    <tr style=\"text-align: right;\">\n",
       "      <th></th>\n",
       "      <th>title</th>\n",
       "      <th>genres</th>\n",
       "      <th>vote_count</th>\n",
       "      <th>vote_average</th>\n",
       "      <th>score</th>\n",
       "      <th>popularity</th>\n",
       "    </tr>\n",
       "  </thead>\n",
       "  <tbody>\n",
       "    <tr>\n",
       "      <th>314</th>\n",
       "      <td>The Shawshank Redemption</td>\n",
       "      <td>[Drama, Crime]</td>\n",
       "      <td>8358.0</td>\n",
       "      <td>8.5</td>\n",
       "      <td>8.445869</td>\n",
       "      <td>51.6454</td>\n",
       "    </tr>\n",
       "    <tr>\n",
       "      <th>834</th>\n",
       "      <td>The Godfather</td>\n",
       "      <td>[Drama, Crime]</td>\n",
       "      <td>6024.0</td>\n",
       "      <td>8.5</td>\n",
       "      <td>8.425439</td>\n",
       "      <td>41.1093</td>\n",
       "    </tr>\n",
       "    <tr>\n",
       "      <th>10309</th>\n",
       "      <td>Dilwale Dulhania Le Jayenge</td>\n",
       "      <td>[Comedy, Drama, Romance]</td>\n",
       "      <td>661.0</td>\n",
       "      <td>9.1</td>\n",
       "      <td>8.421453</td>\n",
       "      <td>34.457</td>\n",
       "    </tr>\n",
       "    <tr>\n",
       "      <th>12481</th>\n",
       "      <td>The Dark Knight</td>\n",
       "      <td>[Drama, Action, Crime, Thriller]</td>\n",
       "      <td>12269.0</td>\n",
       "      <td>8.3</td>\n",
       "      <td>8.265477</td>\n",
       "      <td>123.167</td>\n",
       "    </tr>\n",
       "    <tr>\n",
       "      <th>2843</th>\n",
       "      <td>Fight Club</td>\n",
       "      <td>[Drama]</td>\n",
       "      <td>9678.0</td>\n",
       "      <td>8.3</td>\n",
       "      <td>8.256385</td>\n",
       "      <td>63.8696</td>\n",
       "    </tr>\n",
       "    <tr>\n",
       "      <th>292</th>\n",
       "      <td>Pulp Fiction</td>\n",
       "      <td>[Thriller, Crime]</td>\n",
       "      <td>8670.0</td>\n",
       "      <td>8.3</td>\n",
       "      <td>8.251406</td>\n",
       "      <td>140.95</td>\n",
       "    </tr>\n",
       "    <tr>\n",
       "      <th>522</th>\n",
       "      <td>Schindler's List</td>\n",
       "      <td>[Drama, History, War]</td>\n",
       "      <td>4436.0</td>\n",
       "      <td>8.3</td>\n",
       "      <td>8.206639</td>\n",
       "      <td>41.7251</td>\n",
       "    </tr>\n",
       "    <tr>\n",
       "      <th>23673</th>\n",
       "      <td>Whiplash</td>\n",
       "      <td>[Drama]</td>\n",
       "      <td>4376.0</td>\n",
       "      <td>8.3</td>\n",
       "      <td>8.205404</td>\n",
       "      <td>64.3</td>\n",
       "    </tr>\n",
       "    <tr>\n",
       "      <th>5481</th>\n",
       "      <td>Spirited Away</td>\n",
       "      <td>[Fantasy, Adventure, Animation, Family]</td>\n",
       "      <td>3968.0</td>\n",
       "      <td>8.3</td>\n",
       "      <td>8.196055</td>\n",
       "      <td>41.0489</td>\n",
       "    </tr>\n",
       "    <tr>\n",
       "      <th>2211</th>\n",
       "      <td>Life Is Beautiful</td>\n",
       "      <td>[Comedy, Drama]</td>\n",
       "      <td>3643.0</td>\n",
       "      <td>8.3</td>\n",
       "      <td>8.187171</td>\n",
       "      <td>39.395</td>\n",
       "    </tr>\n",
       "  </tbody>\n",
       "</table>\n",
       "</div>"
      ],
      "text/plain": [
       "                             title                                   genres  \\\n",
       "314       The Shawshank Redemption                           [Drama, Crime]   \n",
       "834                  The Godfather                           [Drama, Crime]   \n",
       "10309  Dilwale Dulhania Le Jayenge                 [Comedy, Drama, Romance]   \n",
       "12481              The Dark Knight         [Drama, Action, Crime, Thriller]   \n",
       "2843                    Fight Club                                  [Drama]   \n",
       "292                   Pulp Fiction                        [Thriller, Crime]   \n",
       "522               Schindler's List                    [Drama, History, War]   \n",
       "23673                     Whiplash                                  [Drama]   \n",
       "5481                 Spirited Away  [Fantasy, Adventure, Animation, Family]   \n",
       "2211             Life Is Beautiful                          [Comedy, Drama]   \n",
       "\n",
       "       vote_count  vote_average     score popularity  \n",
       "314        8358.0           8.5  8.445869    51.6454  \n",
       "834        6024.0           8.5  8.425439    41.1093  \n",
       "10309       661.0           9.1  8.421453     34.457  \n",
       "12481     12269.0           8.3  8.265477    123.167  \n",
       "2843       9678.0           8.3  8.256385    63.8696  \n",
       "292        8670.0           8.3  8.251406     140.95  \n",
       "522        4436.0           8.3  8.206639    41.7251  \n",
       "23673      4376.0           8.3  8.205404       64.3  \n",
       "5481       3968.0           8.3  8.196055    41.0489  \n",
       "2211       3643.0           8.3  8.187171     39.395  "
      ]
     },
     "execution_count": 14,
     "metadata": {},
     "output_type": "execute_result"
    }
   ],
   "source": [
    "#Sort movies based on score calculated above\n",
    "q_movies = q_movies.sort_values('score', ascending=False).head(10)\n",
    "\n",
    "#Print the top 15 movies\n",
    "q_movies[['title', 'genres', 'vote_count', 'vote_average', 'score','popularity']].head(10)\n"
   ]
  },
  {
   "cell_type": "markdown",
   "id": "arabic-membrane",
   "metadata": {
    "papermill": {
     "duration": 0.019752,
     "end_time": "2021-05-19T07:41:11.223825",
     "exception": false,
     "start_time": "2021-05-19T07:41:11.204073",
     "status": "completed"
    },
    "tags": []
   },
   "source": [
    "Bravo! we have made our first recommender(simple recommender). \n",
    "\n",
    "As the output, the very top 3 according to our chart is \"The Shawshank Redemption\",\"The Godfather\",\"Dilwale Dulhania Le Jayenge\". "
   ]
  },
  {
   "cell_type": "code",
   "execution_count": 15,
   "id": "finite-popularity",
   "metadata": {
    "execution": {
     "iopub.execute_input": "2021-05-19T07:41:11.267781Z",
     "iopub.status.busy": "2021-05-19T07:41:11.267114Z",
     "iopub.status.idle": "2021-05-19T07:41:11.269839Z",
     "shell.execute_reply": "2021-05-19T07:41:11.269456Z"
    },
    "papermill": {
     "duration": 0.026138,
     "end_time": "2021-05-19T07:41:11.269939",
     "exception": false,
     "start_time": "2021-05-19T07:41:11.243801",
     "status": "completed"
    },
    "tags": []
   },
   "outputs": [],
   "source": [
    "def clean_numeric(x):\n",
    "    try:\n",
    "        return float(x)\n",
    "    except:\n",
    "        return np.nan"
   ]
  },
  {
   "cell_type": "code",
   "execution_count": 16,
   "id": "intimate-gregory",
   "metadata": {
    "execution": {
     "iopub.execute_input": "2021-05-19T07:41:11.329963Z",
     "iopub.status.busy": "2021-05-19T07:41:11.318715Z",
     "iopub.status.idle": "2021-05-19T07:41:11.375627Z",
     "shell.execute_reply": "2021-05-19T07:41:11.375111Z"
    },
    "papermill": {
     "duration": 0.086031,
     "end_time": "2021-05-19T07:41:11.375732",
     "exception": false,
     "start_time": "2021-05-19T07:41:11.289701",
     "status": "completed"
    },
    "tags": []
   },
   "outputs": [],
   "source": [
    "df['popularity'] = df['popularity'].apply(clean_numeric).astype('float')\n",
    "df['vote_count'] = df['vote_count'].apply(clean_numeric).astype('float')\n",
    "df['vote_average'] = df['vote_average'].apply(clean_numeric).astype('float')\n"
   ]
  },
  {
   "cell_type": "code",
   "execution_count": 17,
   "id": "accepted-johnson",
   "metadata": {
    "execution": {
     "iopub.execute_input": "2021-05-19T07:41:11.420780Z",
     "iopub.status.busy": "2021-05-19T07:41:11.419966Z",
     "iopub.status.idle": "2021-05-19T07:41:11.625940Z",
     "shell.execute_reply": "2021-05-19T07:41:11.626347Z"
    },
    "papermill": {
     "duration": 0.230817,
     "end_time": "2021-05-19T07:41:11.626504",
     "exception": false,
     "start_time": "2021-05-19T07:41:11.395687",
     "status": "completed"
    },
    "tags": []
   },
   "outputs": [
    {
     "data": {
      "image/png": "[encoded data removed]",
      "text/plain": [
       "<Figure size 720x288 with 1 Axes>"
      ]
     },
     "metadata": {},
     "output_type": "display_data"
    }
   ],
   "source": [
    "p_pop=df.sort_values('popularity',ascending=False)\n",
    "\n",
    "plt.figure(figsize=(10,4))\n",
    "\n",
    "plt.barh(p_pop['title'].head(6),p_pop['popularity'].head(6), align='center',\n",
    "        color='skyblue')\n",
    "plt.xlabel(\"score\")\n",
    "plt.title(\"Popular Movies\")\n",
    "plt.gca().invert_yaxis()"
   ]
  },
  {
   "cell_type": "code",
   "execution_count": 18,
   "id": "noticed-exposure",
   "metadata": {
    "execution": {
     "iopub.execute_input": "2021-05-19T07:41:11.673233Z",
     "iopub.status.busy": "2021-05-19T07:41:11.672724Z",
     "iopub.status.idle": "2021-05-19T07:41:11.684915Z",
     "shell.execute_reply": "2021-05-19T07:41:11.684115Z"
    },
    "papermill": {
     "duration": 0.036833,
     "end_time": "2021-05-19T07:41:11.685043",
     "exception": false,
     "start_time": "2021-05-19T07:41:11.648210",
     "status": "completed"
    },
    "tags": []
   },
   "outputs": [
    {
     "data": {
      "text/plain": [
       "count    45460.000000\n",
       "mean       109.897338\n",
       "std        491.310374\n",
       "min          0.000000\n",
       "25%          3.000000\n",
       "50%         10.000000\n",
       "75%         34.000000\n",
       "max      14075.000000\n",
       "Name: vote_count, dtype: float64"
      ]
     },
     "execution_count": 18,
     "metadata": {},
     "output_type": "execute_result"
    }
   ],
   "source": [
    "df['vote_count'].describe()"
   ]
  },
  {
   "cell_type": "code",
   "execution_count": 19,
   "id": "breathing-bernard",
   "metadata": {
    "execution": {
     "iopub.execute_input": "2021-05-19T07:41:11.734452Z",
     "iopub.status.busy": "2021-05-19T07:41:11.733695Z",
     "iopub.status.idle": "2021-05-19T07:41:11.747243Z",
     "shell.execute_reply": "2021-05-19T07:41:11.746806Z"
    },
    "papermill": {
     "duration": 0.040199,
     "end_time": "2021-05-19T07:41:11.747347",
     "exception": false,
     "start_time": "2021-05-19T07:41:11.707148",
     "status": "completed"
    },
    "tags": []
   },
   "outputs": [
    {
     "data": {
      "text/html": [
       "<div>\n",
       "<style scoped>\n",
       "    .dataframe tbody tr th:only-of-type {\n",
       "        vertical-align: middle;\n",
       "    }\n",
       "\n",
       "    .dataframe tbody tr th {\n",
       "        vertical-align: top;\n",
       "    }\n",
       "\n",
       "    .dataframe thead th {\n",
       "        text-align: right;\n",
       "    }\n",
       "</style>\n",
       "<table border=\"1\" class=\"dataframe\">\n",
       "  <thead>\n",
       "    <tr style=\"text-align: right;\">\n",
       "      <th></th>\n",
       "      <th>title</th>\n",
       "      <th>vote_count</th>\n",
       "    </tr>\n",
       "  </thead>\n",
       "  <tbody>\n",
       "    <tr>\n",
       "      <th>15480</th>\n",
       "      <td>Inception</td>\n",
       "      <td>14075.0</td>\n",
       "    </tr>\n",
       "    <tr>\n",
       "      <th>12481</th>\n",
       "      <td>The Dark Knight</td>\n",
       "      <td>12269.0</td>\n",
       "    </tr>\n",
       "    <tr>\n",
       "      <th>14551</th>\n",
       "      <td>Avatar</td>\n",
       "      <td>12114.0</td>\n",
       "    </tr>\n",
       "    <tr>\n",
       "      <th>17818</th>\n",
       "      <td>The Avengers</td>\n",
       "      <td>12000.0</td>\n",
       "    </tr>\n",
       "    <tr>\n",
       "      <th>26564</th>\n",
       "      <td>Deadpool</td>\n",
       "      <td>11444.0</td>\n",
       "    </tr>\n",
       "    <tr>\n",
       "      <th>22879</th>\n",
       "      <td>Interstellar</td>\n",
       "      <td>11187.0</td>\n",
       "    </tr>\n",
       "    <tr>\n",
       "      <th>20051</th>\n",
       "      <td>Django Unchained</td>\n",
       "      <td>10297.0</td>\n",
       "    </tr>\n",
       "    <tr>\n",
       "      <th>23753</th>\n",
       "      <td>Guardians of the Galaxy</td>\n",
       "      <td>10014.0</td>\n",
       "    </tr>\n",
       "    <tr>\n",
       "      <th>2843</th>\n",
       "      <td>Fight Club</td>\n",
       "      <td>9678.0</td>\n",
       "    </tr>\n",
       "    <tr>\n",
       "      <th>18244</th>\n",
       "      <td>The Hunger Games</td>\n",
       "      <td>9634.0</td>\n",
       "    </tr>\n",
       "  </tbody>\n",
       "</table>\n",
       "</div>"
      ],
      "text/plain": [
       "                         title  vote_count\n",
       "15480                Inception     14075.0\n",
       "12481          The Dark Knight     12269.0\n",
       "14551                   Avatar     12114.0\n",
       "17818             The Avengers     12000.0\n",
       "26564                 Deadpool     11444.0\n",
       "22879             Interstellar     11187.0\n",
       "20051         Django Unchained     10297.0\n",
       "23753  Guardians of the Galaxy     10014.0\n",
       "2843                Fight Club      9678.0\n",
       "18244         The Hunger Games      9634.0"
      ]
     },
     "execution_count": 19,
     "metadata": {},
     "output_type": "execute_result"
    }
   ],
   "source": [
    "df[['title', 'vote_count']].sort_values('vote_count', ascending=False).head(10)"
   ]
  },
  {
   "cell_type": "code",
   "execution_count": 20,
   "id": "noble-hudson",
   "metadata": {
    "execution": {
     "iopub.execute_input": "2021-05-19T07:41:11.796835Z",
     "iopub.status.busy": "2021-05-19T07:41:11.796071Z",
     "iopub.status.idle": "2021-05-19T07:41:11.799810Z",
     "shell.execute_reply": "2021-05-19T07:41:11.799392Z"
    },
    "papermill": {
     "duration": 0.029513,
     "end_time": "2021-05-19T07:41:11.799919",
     "exception": false,
     "start_time": "2021-05-19T07:41:11.770406",
     "status": "completed"
    },
    "tags": []
   },
   "outputs": [
    {
     "ename": "SyntaxError",
     "evalue": "invalid syntax (<ipython-input-20-2c70e83dd9fc>, line 1)",
     "output_type": "error",
     "traceback": [
      "\u001b[0;36m  File \u001b[0;32m\"<ipython-input-20-2c70e83dd9fc>\"\u001b[0;36m, line \u001b[0;32m1\u001b[0m\n\u001b[0;31m    We have create simple recommenders. This model was very baseline and only provides a fundamental framework to start with.\u001b[0m\n\u001b[0m          ^\u001b[0m\n\u001b[0;31mSyntaxError\u001b[0m\u001b[0;31m:\u001b[0m invalid syntax\n"
     ]
    }
   ],
   "source": [
    "We have create simple recommenders. This model was very baseline and only provides a fundamental framework to start with.\n",
    "Please end with your valuable feedback and suggestions.\n"
   ]
  }
 ],
 "metadata": {
  "kernelspec": {
   "display_name": "Python 3",
   "language": "python",
   "name": "python3"
  },
  "language_info": {
   "codemirror_mode": {
    "name": "ipython",
    "version": 3
   },
   "file_extension": ".py",
   "mimetype": "text/x-python",
   "name": "python",
   "nbconvert_exporter": "python",
   "pygments_lexer": "ipython3",
   "version": "3.7.10"
  },
  "papermill": {
   "default_parameters": {},
   "duration": 12.194113,
   "end_time": "2021-05-19T07:41:12.430512",
   "environment_variables": {},
   "exception": null,
   "input_path": "__notebook__.ipynb",
   "output_path": "__notebook__.ipynb",
   "parameters": {},
   "start_time": "2021-05-19T07:41:00.236399",
   "version": "2.3.3"
  }
 },
 "nbformat": 4,
 "nbformat_minor": 5
}
